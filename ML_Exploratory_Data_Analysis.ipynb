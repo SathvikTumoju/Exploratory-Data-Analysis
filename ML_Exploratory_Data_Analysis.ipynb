{
  "nbformat": 4,
  "nbformat_minor": 0,
  "metadata": {
    "colab": {
      "name": "ML Exploratory Data Analysis",
      "provenance": [],
      "authorship_tag": "ABX9TyMCE1naznhvGZoyns3G3QrB",
      "include_colab_link": true
    },
    "kernelspec": {
      "name": "python3",
      "display_name": "Python 3"
    }
  },
  "cells": [
    {
      "cell_type": "markdown",
      "metadata": {
        "id": "view-in-github",
        "colab_type": "text"
      },
      "source": [
        "<a href=\"https://colab.research.google.com/github/SathvikTumoju/Exploratory-Data-Analysis/blob/master/ML_Exploratory_Data_Analysis.ipynb\" target=\"_parent\"><img src=\"https://colab.research.google.com/assets/colab-badge.svg\" alt=\"Open In Colab\"/></a>"
      ]
    },
    {
      "cell_type": "markdown",
      "metadata": {
        "id": "wfB-SvElSZuZ",
        "colab_type": "text"
      },
      "source": [
        "**1.1 Importing Libraries and data set**"
      ]
    },
    {
      "cell_type": "code",
      "metadata": {
        "id": "-xMDcI86SeI4",
        "colab_type": "code",
        "colab": {
          "resources": {
            "http://localhost:8080/nbextensions/google.colab/files.js": {
              "data": "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",
              "ok": true,
              "headers": [
                [
                  "content-type",
                  "application/javascript"
                ]
              ],
              "status": 200,
              "status_text": ""
            }
          },
          "base_uri": "https://localhost:8080/",
          "height": 126
        },
        "outputId": "5c7240ac-c1ff-4d05-8f2b-91fae5db2297"
      },
      "source": [
        "import numpy as np\n",
        "import pandas as pd\n",
        "import seaborn as sns                       \n",
        "import matplotlib.pyplot as plt             # for data visualisation\n",
        "%matplotlib inline\n",
        "\n",
        "from google.colab import files           # importing file from local drive\n",
        "uploaded = files.upload()\n"
      ],
      "execution_count": 2,
      "outputs": [
        {
          "output_type": "stream",
          "text": [
            "/usr/local/lib/python3.6/dist-packages/statsmodels/tools/_testing.py:19: FutureWarning: pandas.util.testing is deprecated. Use the functions in the public API at pandas.testing instead.\n",
            "  import pandas.util.testing as tm\n"
          ],
          "name": "stderr"
        },
        {
          "output_type": "display_data",
          "data": {
            "text/html": [
              "\n",
              "     <input type=\"file\" id=\"files-569bf022-000f-4809-83dd-9d804c7cb8bc\" name=\"files[]\" multiple disabled\n",
              "        style=\"border:none\" />\n",
              "     <output id=\"result-569bf022-000f-4809-83dd-9d804c7cb8bc\">\n",
              "      Upload widget is only available when the cell has been executed in the\n",
              "      current browser session. Please rerun this cell to enable.\n",
              "      </output>\n",
              "      <script src=\"/nbextensions/google.colab/files.js\"></script> "
            ],
            "text/plain": [
              "<IPython.core.display.HTML object>"
            ]
          },
          "metadata": {
            "tags": []
          }
        },
        {
          "output_type": "stream",
          "text": [
            "Saving data.csv to data.csv\n"
          ],
          "name": "stdout"
        }
      ]
    },
    {
      "cell_type": "markdown",
      "metadata": {
        "id": "E1D_zEUnS5vk",
        "colab_type": "text"
      },
      "source": [
        "Data file is uploaded successfully 🙂🙂🙂. Now it's time to load data into data frame."
      ]
    },
    {
      "cell_type": "code",
      "metadata": {
        "id": "GXzOZps_S6tc",
        "colab_type": "code",
        "colab": {
          "base_uri": "https://localhost:8080/",
          "height": 313
        },
        "outputId": "acb8c8a3-9961-4ff5-e21b-43bcafb14f02"
      },
      "source": [
        "import io\n",
        "df = pd.read_csv(io.BytesIO(uploaded['data.csv']))     # df stands for data frame\n",
        "df.head()                                              # .head() shows top 5 rows"
      ],
      "execution_count": 54,
      "outputs": [
        {
          "output_type": "execute_result",
          "data": {
            "text/html": [
              "<div>\n",
              "<style scoped>\n",
              "    .dataframe tbody tr th:only-of-type {\n",
              "        vertical-align: middle;\n",
              "    }\n",
              "\n",
              "    .dataframe tbody tr th {\n",
              "        vertical-align: top;\n",
              "    }\n",
              "\n",
              "    .dataframe thead th {\n",
              "        text-align: right;\n",
              "    }\n",
              "</style>\n",
              "<table border=\"1\" class=\"dataframe\">\n",
              "  <thead>\n",
              "    <tr style=\"text-align: right;\">\n",
              "      <th></th>\n",
              "      <th>Make</th>\n",
              "      <th>Model</th>\n",
              "      <th>Year</th>\n",
              "      <th>Engine Fuel Type</th>\n",
              "      <th>Engine HP</th>\n",
              "      <th>Engine Cylinders</th>\n",
              "      <th>Transmission Type</th>\n",
              "      <th>Driven_Wheels</th>\n",
              "      <th>Number of Doors</th>\n",
              "      <th>Market Category</th>\n",
              "      <th>Vehicle Size</th>\n",
              "      <th>Vehicle Style</th>\n",
              "      <th>highway MPG</th>\n",
              "      <th>city mpg</th>\n",
              "      <th>Popularity</th>\n",
              "      <th>MSRP</th>\n",
              "    </tr>\n",
              "  </thead>\n",
              "  <tbody>\n",
              "    <tr>\n",
              "      <th>0</th>\n",
              "      <td>BMW</td>\n",
              "      <td>1 Series M</td>\n",
              "      <td>2011</td>\n",
              "      <td>premium unleaded (required)</td>\n",
              "      <td>335.0</td>\n",
              "      <td>6.0</td>\n",
              "      <td>MANUAL</td>\n",
              "      <td>rear wheel drive</td>\n",
              "      <td>2.0</td>\n",
              "      <td>Factory Tuner,Luxury,High-Performance</td>\n",
              "      <td>Compact</td>\n",
              "      <td>Coupe</td>\n",
              "      <td>26</td>\n",
              "      <td>19</td>\n",
              "      <td>3916</td>\n",
              "      <td>46135</td>\n",
              "    </tr>\n",
              "    <tr>\n",
              "      <th>1</th>\n",
              "      <td>BMW</td>\n",
              "      <td>1 Series</td>\n",
              "      <td>2011</td>\n",
              "      <td>premium unleaded (required)</td>\n",
              "      <td>300.0</td>\n",
              "      <td>6.0</td>\n",
              "      <td>MANUAL</td>\n",
              "      <td>rear wheel drive</td>\n",
              "      <td>2.0</td>\n",
              "      <td>Luxury,Performance</td>\n",
              "      <td>Compact</td>\n",
              "      <td>Convertible</td>\n",
              "      <td>28</td>\n",
              "      <td>19</td>\n",
              "      <td>3916</td>\n",
              "      <td>40650</td>\n",
              "    </tr>\n",
              "    <tr>\n",
              "      <th>2</th>\n",
              "      <td>BMW</td>\n",
              "      <td>1 Series</td>\n",
              "      <td>2011</td>\n",
              "      <td>premium unleaded (required)</td>\n",
              "      <td>300.0</td>\n",
              "      <td>6.0</td>\n",
              "      <td>MANUAL</td>\n",
              "      <td>rear wheel drive</td>\n",
              "      <td>2.0</td>\n",
              "      <td>Luxury,High-Performance</td>\n",
              "      <td>Compact</td>\n",
              "      <td>Coupe</td>\n",
              "      <td>28</td>\n",
              "      <td>20</td>\n",
              "      <td>3916</td>\n",
              "      <td>36350</td>\n",
              "    </tr>\n",
              "    <tr>\n",
              "      <th>3</th>\n",
              "      <td>BMW</td>\n",
              "      <td>1 Series</td>\n",
              "      <td>2011</td>\n",
              "      <td>premium unleaded (required)</td>\n",
              "      <td>230.0</td>\n",
              "      <td>6.0</td>\n",
              "      <td>MANUAL</td>\n",
              "      <td>rear wheel drive</td>\n",
              "      <td>2.0</td>\n",
              "      <td>Luxury,Performance</td>\n",
              "      <td>Compact</td>\n",
              "      <td>Coupe</td>\n",
              "      <td>28</td>\n",
              "      <td>18</td>\n",
              "      <td>3916</td>\n",
              "      <td>29450</td>\n",
              "    </tr>\n",
              "    <tr>\n",
              "      <th>4</th>\n",
              "      <td>BMW</td>\n",
              "      <td>1 Series</td>\n",
              "      <td>2011</td>\n",
              "      <td>premium unleaded (required)</td>\n",
              "      <td>230.0</td>\n",
              "      <td>6.0</td>\n",
              "      <td>MANUAL</td>\n",
              "      <td>rear wheel drive</td>\n",
              "      <td>2.0</td>\n",
              "      <td>Luxury</td>\n",
              "      <td>Compact</td>\n",
              "      <td>Convertible</td>\n",
              "      <td>28</td>\n",
              "      <td>18</td>\n",
              "      <td>3916</td>\n",
              "      <td>34500</td>\n",
              "    </tr>\n",
              "  </tbody>\n",
              "</table>\n",
              "</div>"
            ],
            "text/plain": [
              "  Make       Model  Year  ... city mpg  Popularity   MSRP\n",
              "0  BMW  1 Series M  2011  ...       19        3916  46135\n",
              "1  BMW    1 Series  2011  ...       19        3916  40650\n",
              "2  BMW    1 Series  2011  ...       20        3916  36350\n",
              "3  BMW    1 Series  2011  ...       18        3916  29450\n",
              "4  BMW    1 Series  2011  ...       18        3916  34500\n",
              "\n",
              "[5 rows x 16 columns]"
            ]
          },
          "metadata": {
            "tags": []
          },
          "execution_count": 54
        }
      ]
    },
    {
      "cell_type": "markdown",
      "metadata": {
        "id": "NCD2oq3yTVsu",
        "colab_type": "text"
      },
      "source": [
        "**1.2 Checking the data types**"
      ]
    },
    {
      "cell_type": "markdown",
      "metadata": {
        "id": "8qFWw66hTrCS",
        "colab_type": "text"
      },
      "source": [
        "Now let's know the information about data "
      ]
    },
    {
      "cell_type": "code",
      "metadata": {
        "id": "fFmaiKS1Ta3T",
        "colab_type": "code",
        "colab": {
          "base_uri": "https://localhost:8080/",
          "height": 403
        },
        "outputId": "e3d067b6-8bc6-4731-c4a8-24a9483a9628"
      },
      "source": [
        "df.shape         # total number of rows and columns\n",
        "df.info()        # gives information about the data"
      ],
      "execution_count": 55,
      "outputs": [
        {
          "output_type": "stream",
          "text": [
            "<class 'pandas.core.frame.DataFrame'>\n",
            "RangeIndex: 11914 entries, 0 to 11913\n",
            "Data columns (total 16 columns):\n",
            " #   Column             Non-Null Count  Dtype  \n",
            "---  ------             --------------  -----  \n",
            " 0   Make               11914 non-null  object \n",
            " 1   Model              11914 non-null  object \n",
            " 2   Year               11914 non-null  int64  \n",
            " 3   Engine Fuel Type   11911 non-null  object \n",
            " 4   Engine HP          11845 non-null  float64\n",
            " 5   Engine Cylinders   11884 non-null  float64\n",
            " 6   Transmission Type  11914 non-null  object \n",
            " 7   Driven_Wheels      11914 non-null  object \n",
            " 8   Number of Doors    11908 non-null  float64\n",
            " 9   Market Category    8172 non-null   object \n",
            " 10  Vehicle Size       11914 non-null  object \n",
            " 11  Vehicle Style      11914 non-null  object \n",
            " 12  highway MPG        11914 non-null  int64  \n",
            " 13  city mpg           11914 non-null  int64  \n",
            " 14  Popularity         11914 non-null  int64  \n",
            " 15  MSRP               11914 non-null  int64  \n",
            "dtypes: float64(3), int64(5), object(8)\n",
            "memory usage: 1.5+ MB\n"
          ],
          "name": "stdout"
        }
      ]
    },
    {
      "cell_type": "markdown",
      "metadata": {
        "id": "T8ubzejzUBp5",
        "colab_type": "text"
      },
      "source": [
        "Total rows are 11914 and Total columns are 16. No change in columns is required. Now lets analyse rows"
      ]
    },
    {
      "cell_type": "markdown",
      "metadata": {
        "id": "ioKEyiVnUDSZ",
        "colab_type": "text"
      },
      "source": [
        "**1.3 Statistical Summary**"
      ]
    },
    {
      "cell_type": "markdown",
      "metadata": {
        "id": "-OupcL4MUOeQ",
        "colab_type": "text"
      },
      "source": [
        "Let's analyse the statistical summary of data using describe function"
      ]
    },
    {
      "cell_type": "code",
      "metadata": {
        "id": "FM94uLr_UKt4",
        "colab_type": "code",
        "colab": {
          "base_uri": "https://localhost:8080/",
          "height": 284
        },
        "outputId": "57f2c9cc-8f76-4310-84e8-849a7fda1dec"
      },
      "source": [
        "df.describe()"
      ],
      "execution_count": 56,
      "outputs": [
        {
          "output_type": "execute_result",
          "data": {
            "text/html": [
              "<div>\n",
              "<style scoped>\n",
              "    .dataframe tbody tr th:only-of-type {\n",
              "        vertical-align: middle;\n",
              "    }\n",
              "\n",
              "    .dataframe tbody tr th {\n",
              "        vertical-align: top;\n",
              "    }\n",
              "\n",
              "    .dataframe thead th {\n",
              "        text-align: right;\n",
              "    }\n",
              "</style>\n",
              "<table border=\"1\" class=\"dataframe\">\n",
              "  <thead>\n",
              "    <tr style=\"text-align: right;\">\n",
              "      <th></th>\n",
              "      <th>Year</th>\n",
              "      <th>Engine HP</th>\n",
              "      <th>Engine Cylinders</th>\n",
              "      <th>Number of Doors</th>\n",
              "      <th>highway MPG</th>\n",
              "      <th>city mpg</th>\n",
              "      <th>Popularity</th>\n",
              "      <th>MSRP</th>\n",
              "    </tr>\n",
              "  </thead>\n",
              "  <tbody>\n",
              "    <tr>\n",
              "      <th>count</th>\n",
              "      <td>11914.000000</td>\n",
              "      <td>11845.00000</td>\n",
              "      <td>11884.000000</td>\n",
              "      <td>11908.000000</td>\n",
              "      <td>11914.000000</td>\n",
              "      <td>11914.000000</td>\n",
              "      <td>11914.000000</td>\n",
              "      <td>1.191400e+04</td>\n",
              "    </tr>\n",
              "    <tr>\n",
              "      <th>mean</th>\n",
              "      <td>2010.384338</td>\n",
              "      <td>249.38607</td>\n",
              "      <td>5.628829</td>\n",
              "      <td>3.436093</td>\n",
              "      <td>26.637485</td>\n",
              "      <td>19.733255</td>\n",
              "      <td>1554.911197</td>\n",
              "      <td>4.059474e+04</td>\n",
              "    </tr>\n",
              "    <tr>\n",
              "      <th>std</th>\n",
              "      <td>7.579740</td>\n",
              "      <td>109.19187</td>\n",
              "      <td>1.780559</td>\n",
              "      <td>0.881315</td>\n",
              "      <td>8.863001</td>\n",
              "      <td>8.987798</td>\n",
              "      <td>1441.855347</td>\n",
              "      <td>6.010910e+04</td>\n",
              "    </tr>\n",
              "    <tr>\n",
              "      <th>min</th>\n",
              "      <td>1990.000000</td>\n",
              "      <td>55.00000</td>\n",
              "      <td>0.000000</td>\n",
              "      <td>2.000000</td>\n",
              "      <td>12.000000</td>\n",
              "      <td>7.000000</td>\n",
              "      <td>2.000000</td>\n",
              "      <td>2.000000e+03</td>\n",
              "    </tr>\n",
              "    <tr>\n",
              "      <th>25%</th>\n",
              "      <td>2007.000000</td>\n",
              "      <td>170.00000</td>\n",
              "      <td>4.000000</td>\n",
              "      <td>2.000000</td>\n",
              "      <td>22.000000</td>\n",
              "      <td>16.000000</td>\n",
              "      <td>549.000000</td>\n",
              "      <td>2.100000e+04</td>\n",
              "    </tr>\n",
              "    <tr>\n",
              "      <th>50%</th>\n",
              "      <td>2015.000000</td>\n",
              "      <td>227.00000</td>\n",
              "      <td>6.000000</td>\n",
              "      <td>4.000000</td>\n",
              "      <td>26.000000</td>\n",
              "      <td>18.000000</td>\n",
              "      <td>1385.000000</td>\n",
              "      <td>2.999500e+04</td>\n",
              "    </tr>\n",
              "    <tr>\n",
              "      <th>75%</th>\n",
              "      <td>2016.000000</td>\n",
              "      <td>300.00000</td>\n",
              "      <td>6.000000</td>\n",
              "      <td>4.000000</td>\n",
              "      <td>30.000000</td>\n",
              "      <td>22.000000</td>\n",
              "      <td>2009.000000</td>\n",
              "      <td>4.223125e+04</td>\n",
              "    </tr>\n",
              "    <tr>\n",
              "      <th>max</th>\n",
              "      <td>2017.000000</td>\n",
              "      <td>1001.00000</td>\n",
              "      <td>16.000000</td>\n",
              "      <td>4.000000</td>\n",
              "      <td>354.000000</td>\n",
              "      <td>137.000000</td>\n",
              "      <td>5657.000000</td>\n",
              "      <td>2.065902e+06</td>\n",
              "    </tr>\n",
              "  </tbody>\n",
              "</table>\n",
              "</div>"
            ],
            "text/plain": [
              "               Year    Engine HP  ...    Popularity          MSRP\n",
              "count  11914.000000  11845.00000  ...  11914.000000  1.191400e+04\n",
              "mean    2010.384338    249.38607  ...   1554.911197  4.059474e+04\n",
              "std        7.579740    109.19187  ...   1441.855347  6.010910e+04\n",
              "min     1990.000000     55.00000  ...      2.000000  2.000000e+03\n",
              "25%     2007.000000    170.00000  ...    549.000000  2.100000e+04\n",
              "50%     2015.000000    227.00000  ...   1385.000000  2.999500e+04\n",
              "75%     2016.000000    300.00000  ...   2009.000000  4.223125e+04\n",
              "max     2017.000000   1001.00000  ...   5657.000000  2.065902e+06\n",
              "\n",
              "[8 rows x 8 columns]"
            ]
          },
          "metadata": {
            "tags": []
          },
          "execution_count": 56
        }
      ]
    },
    {
      "cell_type": "markdown",
      "metadata": {
        "id": "lqmVf8xNUw82",
        "colab_type": "text"
      },
      "source": [
        "**1.4 Shape**"
      ]
    },
    {
      "cell_type": "markdown",
      "metadata": {
        "id": "fIujznORU1ZP",
        "colab_type": "text"
      },
      "source": [
        "Shape gives number of rows, number of columns of data frame"
      ]
    },
    {
      "cell_type": "code",
      "metadata": {
        "id": "SJ4W9PzuVDWm",
        "colab_type": "code",
        "colab": {
          "base_uri": "https://localhost:8080/",
          "height": 34
        },
        "outputId": "f8314dc4-4d81-4d21-9e3d-738edfc81009"
      },
      "source": [
        "df.shape   # ( number of rows, number of columns)"
      ],
      "execution_count": 57,
      "outputs": [
        {
          "output_type": "execute_result",
          "data": {
            "text/plain": [
              "(11914, 16)"
            ]
          },
          "metadata": {
            "tags": []
          },
          "execution_count": 57
        }
      ]
    },
    {
      "cell_type": "markdown",
      "metadata": {
        "id": "a0gTwMQTVHsd",
        "colab_type": "text"
      },
      "source": [
        "**1.5 Null Values**"
      ]
    },
    {
      "cell_type": "markdown",
      "metadata": {
        "id": "lvEOvT08VQOK",
        "colab_type": "text"
      },
      "source": [
        "Let's find which columns contain null values"
      ]
    },
    {
      "cell_type": "code",
      "metadata": {
        "id": "6OzCbn1fWkgm",
        "colab_type": "code",
        "colab": {
          "base_uri": "https://localhost:8080/",
          "height": 302
        },
        "outputId": "d4e8d5bf-677b-4ab7-92cd-6d11d3146d7d"
      },
      "source": [
        "print(df.isnull().sum())  # gives total number of null values in all columns"
      ],
      "execution_count": 58,
      "outputs": [
        {
          "output_type": "stream",
          "text": [
            "Make                    0\n",
            "Model                   0\n",
            "Year                    0\n",
            "Engine Fuel Type        3\n",
            "Engine HP              69\n",
            "Engine Cylinders       30\n",
            "Transmission Type       0\n",
            "Driven_Wheels           0\n",
            "Number of Doors         6\n",
            "Market Category      3742\n",
            "Vehicle Size            0\n",
            "Vehicle Style           0\n",
            "highway MPG             0\n",
            "city mpg                0\n",
            "Popularity              0\n",
            "MSRP                    0\n",
            "dtype: int64\n"
          ],
          "name": "stdout"
        }
      ]
    },
    {
      "cell_type": "markdown",
      "metadata": {
        "id": "OImkUXjNWx9-",
        "colab_type": "text"
      },
      "source": [
        "**2 Dropping less relavence columns**\n",
        "****"
      ]
    },
    {
      "cell_type": "markdown",
      "metadata": {
        "id": "6cExYWt1W2Sk",
        "colab_type": "text"
      },
      "source": [
        "We need to drop less relavence columns, because we don't need them and they may affect our machine learning model."
      ]
    },
    {
      "cell_type": "markdown",
      "metadata": {
        "id": "IQAUB-83Xbxz",
        "colab_type": "text"
      },
      "source": [
        "Dropping \"Engine fuel type\" because it will be either premium unleaked or relugar unleaked so it won't effect much ,\"Number of doors\" because it will be either 4 or 2 so it won't effect much ,\"Market Category\",\"Vehicle Style\",\"Vehicle Size\" it also won't effect on our analysis...\n",
        "\n"
      ]
    },
    {
      "cell_type": "code",
      "metadata": {
        "id": "d_r8waGcXSmn",
        "colab_type": "code",
        "colab": {
          "base_uri": "https://localhost:8080/",
          "height": 195
        },
        "outputId": "0f8bf408-3217-474a-c90e-de52b501b5b0"
      },
      "source": [
        "df = df.drop(['Engine Fuel Type', 'Number of Doors','Market Category','Vehicle Size','Vehicle Style'], axis=1)   #drop() drops the columns mentioned in it.\n",
        "df.head()"
      ],
      "execution_count": 59,
      "outputs": [
        {
          "output_type": "execute_result",
          "data": {
            "text/html": [
              "<div>\n",
              "<style scoped>\n",
              "    .dataframe tbody tr th:only-of-type {\n",
              "        vertical-align: middle;\n",
              "    }\n",
              "\n",
              "    .dataframe tbody tr th {\n",
              "        vertical-align: top;\n",
              "    }\n",
              "\n",
              "    .dataframe thead th {\n",
              "        text-align: right;\n",
              "    }\n",
              "</style>\n",
              "<table border=\"1\" class=\"dataframe\">\n",
              "  <thead>\n",
              "    <tr style=\"text-align: right;\">\n",
              "      <th></th>\n",
              "      <th>Make</th>\n",
              "      <th>Model</th>\n",
              "      <th>Year</th>\n",
              "      <th>Engine HP</th>\n",
              "      <th>Engine Cylinders</th>\n",
              "      <th>Transmission Type</th>\n",
              "      <th>Driven_Wheels</th>\n",
              "      <th>highway MPG</th>\n",
              "      <th>city mpg</th>\n",
              "      <th>Popularity</th>\n",
              "      <th>MSRP</th>\n",
              "    </tr>\n",
              "  </thead>\n",
              "  <tbody>\n",
              "    <tr>\n",
              "      <th>0</th>\n",
              "      <td>BMW</td>\n",
              "      <td>1 Series M</td>\n",
              "      <td>2011</td>\n",
              "      <td>335.0</td>\n",
              "      <td>6.0</td>\n",
              "      <td>MANUAL</td>\n",
              "      <td>rear wheel drive</td>\n",
              "      <td>26</td>\n",
              "      <td>19</td>\n",
              "      <td>3916</td>\n",
              "      <td>46135</td>\n",
              "    </tr>\n",
              "    <tr>\n",
              "      <th>1</th>\n",
              "      <td>BMW</td>\n",
              "      <td>1 Series</td>\n",
              "      <td>2011</td>\n",
              "      <td>300.0</td>\n",
              "      <td>6.0</td>\n",
              "      <td>MANUAL</td>\n",
              "      <td>rear wheel drive</td>\n",
              "      <td>28</td>\n",
              "      <td>19</td>\n",
              "      <td>3916</td>\n",
              "      <td>40650</td>\n",
              "    </tr>\n",
              "    <tr>\n",
              "      <th>2</th>\n",
              "      <td>BMW</td>\n",
              "      <td>1 Series</td>\n",
              "      <td>2011</td>\n",
              "      <td>300.0</td>\n",
              "      <td>6.0</td>\n",
              "      <td>MANUAL</td>\n",
              "      <td>rear wheel drive</td>\n",
              "      <td>28</td>\n",
              "      <td>20</td>\n",
              "      <td>3916</td>\n",
              "      <td>36350</td>\n",
              "    </tr>\n",
              "    <tr>\n",
              "      <th>3</th>\n",
              "      <td>BMW</td>\n",
              "      <td>1 Series</td>\n",
              "      <td>2011</td>\n",
              "      <td>230.0</td>\n",
              "      <td>6.0</td>\n",
              "      <td>MANUAL</td>\n",
              "      <td>rear wheel drive</td>\n",
              "      <td>28</td>\n",
              "      <td>18</td>\n",
              "      <td>3916</td>\n",
              "      <td>29450</td>\n",
              "    </tr>\n",
              "    <tr>\n",
              "      <th>4</th>\n",
              "      <td>BMW</td>\n",
              "      <td>1 Series</td>\n",
              "      <td>2011</td>\n",
              "      <td>230.0</td>\n",
              "      <td>6.0</td>\n",
              "      <td>MANUAL</td>\n",
              "      <td>rear wheel drive</td>\n",
              "      <td>28</td>\n",
              "      <td>18</td>\n",
              "      <td>3916</td>\n",
              "      <td>34500</td>\n",
              "    </tr>\n",
              "  </tbody>\n",
              "</table>\n",
              "</div>"
            ],
            "text/plain": [
              "  Make       Model  Year  Engine HP  ...  highway MPG city mpg Popularity   MSRP\n",
              "0  BMW  1 Series M  2011      335.0  ...           26       19       3916  46135\n",
              "1  BMW    1 Series  2011      300.0  ...           28       19       3916  40650\n",
              "2  BMW    1 Series  2011      300.0  ...           28       20       3916  36350\n",
              "3  BMW    1 Series  2011      230.0  ...           28       18       3916  29450\n",
              "4  BMW    1 Series  2011      230.0  ...           28       18       3916  34500\n",
              "\n",
              "[5 rows x 11 columns]"
            ]
          },
          "metadata": {
            "tags": []
          },
          "execution_count": 59
        }
      ]
    },
    {
      "cell_type": "markdown",
      "metadata": {
        "id": "tGTQdRQVXlKq",
        "colab_type": "text"
      },
      "source": [
        "**3. Renaming Columns**"
      ]
    },
    {
      "cell_type": "markdown",
      "metadata": {
        "id": "JU0FgESYXpdA",
        "colab_type": "text"
      },
      "source": [
        "We can rename columns so that it can be easy for us in future analysis."
      ]
    },
    {
      "cell_type": "code",
      "metadata": {
        "id": "kkJmd8flXz9f",
        "colab_type": "code",
        "colab": {
          "base_uri": "https://localhost:8080/",
          "height": 195
        },
        "outputId": "d6e66ebf-972e-4131-e532-abdc931c0382"
      },
      "source": [
        "# Use rename() we can rename columns. \n",
        "df = df.rename(columns={\"Engine HP\": \"HP\", \"Engine Cylinders\": \"Cylinders\", \"Transmission Type\": \"Transmission\", \"Driven_Wheels\": \"Drive Mode\",\"highway MPG\": \"MPG-H\", \"city mpg\": \"MPG-C\", \"MSRP\": \"Price\" })\n",
        "df.head()"
      ],
      "execution_count": 60,
      "outputs": [
        {
          "output_type": "execute_result",
          "data": {
            "text/html": [
              "<div>\n",
              "<style scoped>\n",
              "    .dataframe tbody tr th:only-of-type {\n",
              "        vertical-align: middle;\n",
              "    }\n",
              "\n",
              "    .dataframe tbody tr th {\n",
              "        vertical-align: top;\n",
              "    }\n",
              "\n",
              "    .dataframe thead th {\n",
              "        text-align: right;\n",
              "    }\n",
              "</style>\n",
              "<table border=\"1\" class=\"dataframe\">\n",
              "  <thead>\n",
              "    <tr style=\"text-align: right;\">\n",
              "      <th></th>\n",
              "      <th>Make</th>\n",
              "      <th>Model</th>\n",
              "      <th>Year</th>\n",
              "      <th>HP</th>\n",
              "      <th>Cylinders</th>\n",
              "      <th>Transmission</th>\n",
              "      <th>Drive Mode</th>\n",
              "      <th>MPG-H</th>\n",
              "      <th>MPG-C</th>\n",
              "      <th>Popularity</th>\n",
              "      <th>Price</th>\n",
              "    </tr>\n",
              "  </thead>\n",
              "  <tbody>\n",
              "    <tr>\n",
              "      <th>0</th>\n",
              "      <td>BMW</td>\n",
              "      <td>1 Series M</td>\n",
              "      <td>2011</td>\n",
              "      <td>335.0</td>\n",
              "      <td>6.0</td>\n",
              "      <td>MANUAL</td>\n",
              "      <td>rear wheel drive</td>\n",
              "      <td>26</td>\n",
              "      <td>19</td>\n",
              "      <td>3916</td>\n",
              "      <td>46135</td>\n",
              "    </tr>\n",
              "    <tr>\n",
              "      <th>1</th>\n",
              "      <td>BMW</td>\n",
              "      <td>1 Series</td>\n",
              "      <td>2011</td>\n",
              "      <td>300.0</td>\n",
              "      <td>6.0</td>\n",
              "      <td>MANUAL</td>\n",
              "      <td>rear wheel drive</td>\n",
              "      <td>28</td>\n",
              "      <td>19</td>\n",
              "      <td>3916</td>\n",
              "      <td>40650</td>\n",
              "    </tr>\n",
              "    <tr>\n",
              "      <th>2</th>\n",
              "      <td>BMW</td>\n",
              "      <td>1 Series</td>\n",
              "      <td>2011</td>\n",
              "      <td>300.0</td>\n",
              "      <td>6.0</td>\n",
              "      <td>MANUAL</td>\n",
              "      <td>rear wheel drive</td>\n",
              "      <td>28</td>\n",
              "      <td>20</td>\n",
              "      <td>3916</td>\n",
              "      <td>36350</td>\n",
              "    </tr>\n",
              "    <tr>\n",
              "      <th>3</th>\n",
              "      <td>BMW</td>\n",
              "      <td>1 Series</td>\n",
              "      <td>2011</td>\n",
              "      <td>230.0</td>\n",
              "      <td>6.0</td>\n",
              "      <td>MANUAL</td>\n",
              "      <td>rear wheel drive</td>\n",
              "      <td>28</td>\n",
              "      <td>18</td>\n",
              "      <td>3916</td>\n",
              "      <td>29450</td>\n",
              "    </tr>\n",
              "    <tr>\n",
              "      <th>4</th>\n",
              "      <td>BMW</td>\n",
              "      <td>1 Series</td>\n",
              "      <td>2011</td>\n",
              "      <td>230.0</td>\n",
              "      <td>6.0</td>\n",
              "      <td>MANUAL</td>\n",
              "      <td>rear wheel drive</td>\n",
              "      <td>28</td>\n",
              "      <td>18</td>\n",
              "      <td>3916</td>\n",
              "      <td>34500</td>\n",
              "    </tr>\n",
              "  </tbody>\n",
              "</table>\n",
              "</div>"
            ],
            "text/plain": [
              "  Make       Model  Year     HP  ...  MPG-H MPG-C Popularity  Price\n",
              "0  BMW  1 Series M  2011  335.0  ...     26    19       3916  46135\n",
              "1  BMW    1 Series  2011  300.0  ...     28    19       3916  40650\n",
              "2  BMW    1 Series  2011  300.0  ...     28    20       3916  36350\n",
              "3  BMW    1 Series  2011  230.0  ...     28    18       3916  29450\n",
              "4  BMW    1 Series  2011  230.0  ...     28    18       3916  34500\n",
              "\n",
              "[5 rows x 11 columns]"
            ]
          },
          "metadata": {
            "tags": []
          },
          "execution_count": 60
        }
      ]
    },
    {
      "cell_type": "markdown",
      "metadata": {
        "id": "z3Ug9POFY6qH",
        "colab_type": "text"
      },
      "source": [
        "**4. Finding Duplicates,Null values,Missing data and removing them**"
      ]
    },
    {
      "cell_type": "markdown",
      "metadata": {
        "id": "o9VwoGd-ZOAh",
        "colab_type": "text"
      },
      "source": [
        "\n",
        "We need to duplicates,null values,missing data . Because we don't need them and they may affect our machine learning model."
      ]
    },
    {
      "cell_type": "markdown",
      "metadata": {
        "id": "aeZ46tPzZx1u",
        "colab_type": "text"
      },
      "source": [
        "Checking Duplicates"
      ]
    },
    {
      "cell_type": "code",
      "metadata": {
        "id": "PIvs72sqZ7cW",
        "colab_type": "code",
        "colab": {
          "base_uri": "https://localhost:8080/",
          "height": 34
        },
        "outputId": "893b6346-4d2a-4db4-d190-1125721fb3a9"
      },
      "source": [
        "duplicate_rows = df[df.duplicated()]\n",
        "print(\"number of duplicate rows are : \",duplicate_rows.shape[0] )   #.shape[0] prints number of rows, .shape[1] prints number of columns\n"
      ],
      "execution_count": 61,
      "outputs": [
        {
          "output_type": "stream",
          "text": [
            "number of duplicate rows are :  989\n"
          ],
          "name": "stdout"
        }
      ]
    },
    {
      "cell_type": "markdown",
      "metadata": {
        "id": "MO0mWTTYZzdj",
        "colab_type": "text"
      },
      "source": [
        "**4.1 Dropping duplicates**"
      ]
    },
    {
      "cell_type": "code",
      "metadata": {
        "id": "7aPiPOb_aLBN",
        "colab_type": "code",
        "colab": {
          "base_uri": "https://localhost:8080/",
          "height": 50
        },
        "outputId": "5fa3f374-4f67-45dc-a7bc-75da4732088c"
      },
      "source": [
        "df = df.drop_duplicates()                                          # dropping the duplicates\n",
        "duplicate_rows = df[df.duplicated()]\n",
        "print(\"number of duplicate rows are : \",duplicate_rows.shape[0] )\n",
        "print(\"number of  rows are : \",df.shape[0] )"
      ],
      "execution_count": 62,
      "outputs": [
        {
          "output_type": "stream",
          "text": [
            "number of duplicate rows are :  0\n",
            "number of  rows are :  10925\n"
          ],
          "name": "stdout"
        }
      ]
    },
    {
      "cell_type": "markdown",
      "metadata": {
        "id": "PlY8n0sQag8B",
        "colab_type": "text"
      },
      "source": [
        "Checking Null values\n"
      ]
    },
    {
      "cell_type": "code",
      "metadata": {
        "id": "MSLgrQ92ahsM",
        "colab_type": "code",
        "colab": {
          "base_uri": "https://localhost:8080/",
          "height": 437
        },
        "outputId": "8b28fc1d-5580-4ca2-eed5-92a9137e7eeb"
      },
      "source": [
        "print(df.isnull().sum())                 #checking number of null values in each column\n",
        "print(\"---------------------------\")\n",
        "df.count()"
      ],
      "execution_count": 63,
      "outputs": [
        {
          "output_type": "stream",
          "text": [
            "Make             0\n",
            "Model            0\n",
            "Year             0\n",
            "HP              69\n",
            "Cylinders       30\n",
            "Transmission     0\n",
            "Drive Mode       0\n",
            "MPG-H            0\n",
            "MPG-C            0\n",
            "Popularity       0\n",
            "Price            0\n",
            "dtype: int64\n",
            "---------------------------\n"
          ],
          "name": "stdout"
        },
        {
          "output_type": "execute_result",
          "data": {
            "text/plain": [
              "Make            10925\n",
              "Model           10925\n",
              "Year            10925\n",
              "HP              10856\n",
              "Cylinders       10895\n",
              "Transmission    10925\n",
              "Drive Mode      10925\n",
              "MPG-H           10925\n",
              "MPG-C           10925\n",
              "Popularity      10925\n",
              "Price           10925\n",
              "dtype: int64"
            ]
          },
          "metadata": {
            "tags": []
          },
          "execution_count": 63
        }
      ]
    },
    {
      "cell_type": "markdown",
      "metadata": {
        "id": "HibmK9bja1vK",
        "colab_type": "text"
      },
      "source": [
        "As you can see above HP , Cylinders have some null attributes so we have to remove that rows"
      ]
    },
    {
      "cell_type": "markdown",
      "metadata": {
        "id": "rDHYfjQLa3Qp",
        "colab_type": "text"
      },
      "source": [
        "**4.2 Removing null and missing attributes**"
      ]
    },
    {
      "cell_type": "code",
      "metadata": {
        "id": "hBHVnlYWbW7Q",
        "colab_type": "code",
        "colab": {
          "base_uri": "https://localhost:8080/",
          "height": 437
        },
        "outputId": "84d45ca6-2a59-4efa-c77b-758047fbfbb4"
      },
      "source": [
        "df = df.dropna()       #dropna()  drops null values\n",
        "print(df.isnull().sum())\n",
        "print(\"-----------------------------\")\n",
        "df.count()"
      ],
      "execution_count": 64,
      "outputs": [
        {
          "output_type": "stream",
          "text": [
            "Make            0\n",
            "Model           0\n",
            "Year            0\n",
            "HP              0\n",
            "Cylinders       0\n",
            "Transmission    0\n",
            "Drive Mode      0\n",
            "MPG-H           0\n",
            "MPG-C           0\n",
            "Popularity      0\n",
            "Price           0\n",
            "dtype: int64\n",
            "-----------------------------\n"
          ],
          "name": "stdout"
        },
        {
          "output_type": "execute_result",
          "data": {
            "text/plain": [
              "Make            10827\n",
              "Model           10827\n",
              "Year            10827\n",
              "HP              10827\n",
              "Cylinders       10827\n",
              "Transmission    10827\n",
              "Drive Mode      10827\n",
              "MPG-H           10827\n",
              "MPG-C           10827\n",
              "Popularity      10827\n",
              "Price           10827\n",
              "dtype: int64"
            ]
          },
          "metadata": {
            "tags": []
          },
          "execution_count": 64
        }
      ]
    },
    {
      "cell_type": "markdown",
      "metadata": {
        "id": "I6QKwWInbk2o",
        "colab_type": "text"
      },
      "source": [
        "All null attributes are removed"
      ]
    },
    {
      "cell_type": "markdown",
      "metadata": {
        "id": "fsg3RP2bboNL",
        "colab_type": "text"
      },
      "source": [
        "**5.Outliers**"
      ]
    },
    {
      "cell_type": "markdown",
      "metadata": {
        "id": "l91qnkFHbuqS",
        "colab_type": "text"
      },
      "source": [
        "An outlier is a point or set of points that are different from other points.There are many methods to find outliers. Some of them are using Box-plot,Scatter-plot,IQR score, Z score and manymore.."
      ]
    },
    {
      "cell_type": "markdown",
      "metadata": {
        "id": "2hi7Kr9Ob0rM",
        "colab_type": "text"
      },
      "source": [
        "Let's analyse using box plot"
      ]
    },
    {
      "cell_type": "markdown",
      "metadata": {
        "id": "DMJd1oNVb4-5",
        "colab_type": "text"
      },
      "source": [
        "**Box plot**"
      ]
    },
    {
      "cell_type": "code",
      "metadata": {
        "id": "Oe6UWDxcb-a6",
        "colab_type": "code",
        "colab": {
          "base_uri": "https://localhost:8080/",
          "height": 297
        },
        "outputId": "36d0f2c1-2398-420d-f1a6-b6123797cb12"
      },
      "source": [
        "# lets create subplots \n",
        "plt.subplot(2,3,1)\n",
        "plt.title(\"Cylinders\")\n",
        "sns.boxplot(x=df['Cylinders'])      \n",
        "\n",
        "plt.subplot(2,3,2)\n",
        "plt.title(\"HP\")\n",
        "sns.boxplot(x=df['HP'])\n",
        "\n",
        "plt.subplot(2,3,3)\n",
        "plt.title(\"Price\")\n",
        "sns.boxplot(x=df['Price'])\n",
        "\n",
        "plt.subplot(2,3,4)\n",
        "plt.title(\"Popularity\")\n",
        "sns.boxplot(x=df['Popularity'])\n",
        "\n",
        "plt.subplot(2,3,5)\n",
        "plt.title(\"MPG-C\")\n",
        "sns.boxplot(x=df['MPG-C'])\n",
        "\n",
        "plt.subplot(2,3,6)\n",
        "plt.title(\"MPG-H\")\n",
        "sns.boxplot(x=df['MPG-H'])\n",
        "\n",
        "plt.tight_layout()"
      ],
      "execution_count": 65,
      "outputs": [
        {
          "output_type": "display_data",
          "data": {
            "image/png": "[encoded data removed]",
            "text/plain": [
              "<Figure size 432x288 with 6 Axes>"
            ]
          },
          "metadata": {
            "tags": [],
            "needs_background": "light"
          }
        }
      ]
    },
    {
      "cell_type": "markdown",
      "metadata": {
        "id": "aHw9A7wnd9HG",
        "colab_type": "text"
      },
      "source": [
        "**IQR**"
      ]
    },
    {
      "cell_type": "markdown",
      "metadata": {
        "id": "AwS_qECGd-2O",
        "colab_type": "text"
      },
      "source": [
        "IQR stands for inter quartile range.We can remove outliers using IQR."
      ]
    },
    {
      "cell_type": "code",
      "metadata": {
        "id": "b6S37PGAeJWf",
        "colab_type": "code",
        "colab": {
          "base_uri": "https://localhost:8080/",
          "height": 151
        },
        "outputId": "baf7c6b5-4f9d-43dc-b9e0-63cb369cb3af"
      },
      "source": [
        "Q1 = df.quantile(0.25)        #quantile of first quarter\n",
        "Q3 = df.quantile(0.75)        # quantile of second quarter\n",
        "IQR = Q3 - Q1                 # differnce\n",
        "print(IQR)"
      ],
      "execution_count": 66,
      "outputs": [
        {
          "output_type": "stream",
          "text": [
            "Year              9.0\n",
            "HP              130.0\n",
            "Cylinders         2.0\n",
            "MPG-H             8.0\n",
            "MPG-C             6.0\n",
            "Popularity     1460.0\n",
            "Price         21327.5\n",
            "dtype: float64\n"
          ],
          "name": "stdout"
        }
      ]
    },
    {
      "cell_type": "code",
      "metadata": {
        "id": "oakgTaxlePh0",
        "colab_type": "code",
        "colab": {
          "base_uri": "https://localhost:8080/",
          "height": 34
        },
        "outputId": "d3066474-5565-4814-d53c-8f66a6f24ed5"
      },
      "source": [
        "df = df[~((df < (Q1 - 1.5 * IQR)) |(df > (Q3 + 1.5 * IQR))).any(axis=1)]   #removing rows before Q1 and after Q3.\n",
        "df.shape"
      ],
      "execution_count": 67,
      "outputs": [
        {
          "output_type": "execute_result",
          "data": {
            "text/plain": [
              "(8438, 11)"
            ]
          },
          "metadata": {
            "tags": []
          },
          "execution_count": 67
        }
      ]
    },
    {
      "cell_type": "code",
      "metadata": {
        "id": "jB4VyWRQeRFT",
        "colab_type": "code",
        "colab": {
          "base_uri": "https://localhost:8080/",
          "height": 151
        },
        "outputId": "48de0657-b110-4c35-9363-42056f13922b"
      },
      "source": [
        "Q1 = df.quantile(0.25)        #quantile of first quarter\n",
        "Q3 = df.quantile(0.75)        # quantile of second quarter\n",
        "IQR = Q3 - Q1                 # differnce\n",
        "print(IQR)"
      ],
      "execution_count": 68,
      "outputs": [
        {
          "output_type": "stream",
          "text": [
            "Year              8.0\n",
            "HP              117.0\n",
            "Cylinders         2.0\n",
            "MPG-H             8.0\n",
            "MPG-C             6.0\n",
            "Popularity     1302.0\n",
            "Price         18032.5\n",
            "dtype: float64\n"
          ],
          "name": "stdout"
        }
      ]
    },
    {
      "cell_type": "markdown",
      "metadata": {
        "id": "Mda25-39e1kQ",
        "colab_type": "text"
      },
      "source": [
        "You can notice the decrease in IQR values. So,we have successfully removed most of the outliers using IQR. Now you can also run the above boxplot and you will find no outliners. **Now you can also run the above boxplots and you will see decrease outliners**"
      ]
    },
    {
      "cell_type": "markdown",
      "metadata": {
        "id": "LbazLRk5e8zL",
        "colab_type": "text"
      },
      "source": [
        "**6.1 Most represented car brands**"
      ]
    },
    {
      "cell_type": "code",
      "metadata": {
        "id": "xqIwOxVAfBbe",
        "colab_type": "code",
        "colab": {
          "base_uri": "https://localhost:8080/",
          "height": 185
        },
        "outputId": "f4b246f3-d14d-454f-b7ca-a945ee137037"
      },
      "source": [
        "counts = df['Make'].value_counts()\n",
        "topCars= counts.keys().to_list()[:10]       #to_list()  converts to list. and now topCars contain top 10 cars \n",
        "for i in range(10):\n",
        "  print(topCars[i])                         # printing the cars using for loop "
      ],
      "execution_count": 69,
      "outputs": [
        {
          "output_type": "stream",
          "text": [
            "Chevrolet\n",
            "Toyota\n",
            "Volkswagen\n",
            "Nissan\n",
            "GMC\n",
            "Dodge\n",
            "Mazda\n",
            "Honda\n",
            "Suzuki\n",
            "Infiniti\n"
          ],
          "name": "stdout"
        }
      ]
    },
    {
      "cell_type": "markdown",
      "metadata": {
        "id": "594mJV3TfbFi",
        "colab_type": "text"
      },
      "source": [
        "**6.2 Finding average prices of top car brands**"
      ]
    },
    {
      "cell_type": "code",
      "metadata": {
        "id": "GZSW9en_fhIP",
        "colab_type": "code",
        "colab": {
          "base_uri": "https://localhost:8080/",
          "height": 218
        },
        "outputId": "3ad4662b-cf58-4f1e-cb44-d7cd88a51239"
      },
      "source": [
        " df1 = df[['Make','Price']]                                        # contains columns make , price \n",
        " print(\"Make/Model           AveragePrice \\n\")\n",
        "\n",
        " for x in topCars:                                                 # topCars is list from the above code\n",
        "   df2=df1[df1['Make']== x ].mean().to_list()                      # prints average price of input cars and add it to a list df2\n",
        "   print(x+ \"       \" , end=\"\")\n",
        "   print(df2[0])"
      ],
      "execution_count": 70,
      "outputs": [
        {
          "output_type": "stream",
          "text": [
            "Make/Model           AveragePrice \n",
            "\n",
            "Chevrolet       28630.917082917083\n",
            "Toyota       27860.31922398589\n",
            "Volkswagen       29032.817475728156\n",
            "Nissan       28404.013671875\n",
            "GMC       33462.65450643777\n",
            "Dodge       26190.560283687944\n",
            "Mazda       20495.820105820105\n",
            "Honda       27400.45552560647\n",
            "Suzuki       18361.29552238806\n",
            "Infiniti       43127.82298136646\n"
          ],
          "name": "stdout"
        }
      ]
    },
    {
      "cell_type": "markdown",
      "metadata": {
        "id": "GdxO1xTfgEmT",
        "colab_type": "text"
      },
      "source": [
        "We successfully printed average price of top ten cars list."
      ]
    },
    {
      "cell_type": "markdown",
      "metadata": {
        "id": "uXqmy7UrgLUa",
        "colab_type": "text"
      },
      "source": [
        "**7. Correalation Matrix**"
      ]
    },
    {
      "cell_type": "markdown",
      "metadata": {
        "id": "nTV1bgYLgQvC",
        "colab_type": "text"
      },
      "source": [
        "Correlation matrix is a matrix which gives correlation value between all numerical variables in matrix form.So we use correlation matrix to find correlation between matrix and drop irrelavent columns"
      ]
    },
    {
      "cell_type": "code",
      "metadata": {
        "id": "5AdmS-3aggj0",
        "colab_type": "code",
        "colab": {
          "base_uri": "https://localhost:8080/",
          "height": 254
        },
        "outputId": "dc67dcd9-8239-47d8-80c8-349a259a29a7"
      },
      "source": [
        "df.corr()        #corr() gives correlation matrix of the data form"
      ],
      "execution_count": 71,
      "outputs": [
        {
          "output_type": "execute_result",
          "data": {
            "text/html": [
              "<div>\n",
              "<style scoped>\n",
              "    .dataframe tbody tr th:only-of-type {\n",
              "        vertical-align: middle;\n",
              "    }\n",
              "\n",
              "    .dataframe tbody tr th {\n",
              "        vertical-align: top;\n",
              "    }\n",
              "\n",
              "    .dataframe thead th {\n",
              "        text-align: right;\n",
              "    }\n",
              "</style>\n",
              "<table border=\"1\" class=\"dataframe\">\n",
              "  <thead>\n",
              "    <tr style=\"text-align: right;\">\n",
              "      <th></th>\n",
              "      <th>Year</th>\n",
              "      <th>HP</th>\n",
              "      <th>Cylinders</th>\n",
              "      <th>MPG-H</th>\n",
              "      <th>MPG-C</th>\n",
              "      <th>Popularity</th>\n",
              "      <th>Price</th>\n",
              "    </tr>\n",
              "  </thead>\n",
              "  <tbody>\n",
              "    <tr>\n",
              "      <th>Year</th>\n",
              "      <td>1.000000</td>\n",
              "      <td>0.314687</td>\n",
              "      <td>-0.114560</td>\n",
              "      <td>0.379871</td>\n",
              "      <td>0.339894</td>\n",
              "      <td>0.194792</td>\n",
              "      <td>0.577544</td>\n",
              "    </tr>\n",
              "    <tr>\n",
              "      <th>HP</th>\n",
              "      <td>0.314687</td>\n",
              "      <td>1.000000</td>\n",
              "      <td>0.736268</td>\n",
              "      <td>-0.454730</td>\n",
              "      <td>-0.557035</td>\n",
              "      <td>0.092237</td>\n",
              "      <td>0.744946</td>\n",
              "    </tr>\n",
              "    <tr>\n",
              "      <th>Cylinders</th>\n",
              "      <td>-0.114560</td>\n",
              "      <td>0.736268</td>\n",
              "      <td>1.000000</td>\n",
              "      <td>-0.692258</td>\n",
              "      <td>-0.747238</td>\n",
              "      <td>0.012965</td>\n",
              "      <td>0.390584</td>\n",
              "    </tr>\n",
              "    <tr>\n",
              "      <th>MPG-H</th>\n",
              "      <td>0.379871</td>\n",
              "      <td>-0.454730</td>\n",
              "      <td>-0.692258</td>\n",
              "      <td>1.000000</td>\n",
              "      <td>0.937019</td>\n",
              "      <td>0.092447</td>\n",
              "      <td>-0.123900</td>\n",
              "    </tr>\n",
              "    <tr>\n",
              "      <th>MPG-C</th>\n",
              "      <td>0.339894</td>\n",
              "      <td>-0.557035</td>\n",
              "      <td>-0.747238</td>\n",
              "      <td>0.937019</td>\n",
              "      <td>1.000000</td>\n",
              "      <td>0.079140</td>\n",
              "      <td>-0.201820</td>\n",
              "    </tr>\n",
              "    <tr>\n",
              "      <th>Popularity</th>\n",
              "      <td>0.194792</td>\n",
              "      <td>0.092237</td>\n",
              "      <td>0.012965</td>\n",
              "      <td>0.092447</td>\n",
              "      <td>0.079140</td>\n",
              "      <td>1.000000</td>\n",
              "      <td>0.108194</td>\n",
              "    </tr>\n",
              "    <tr>\n",
              "      <th>Price</th>\n",
              "      <td>0.577544</td>\n",
              "      <td>0.744946</td>\n",
              "      <td>0.390584</td>\n",
              "      <td>-0.123900</td>\n",
              "      <td>-0.201820</td>\n",
              "      <td>0.108194</td>\n",
              "      <td>1.000000</td>\n",
              "    </tr>\n",
              "  </tbody>\n",
              "</table>\n",
              "</div>"
            ],
            "text/plain": [
              "                Year        HP  Cylinders  ...     MPG-C  Popularity     Price\n",
              "Year        1.000000  0.314687  -0.114560  ...  0.339894    0.194792  0.577544\n",
              "HP          0.314687  1.000000   0.736268  ... -0.557035    0.092237  0.744946\n",
              "Cylinders  -0.114560  0.736268   1.000000  ... -0.747238    0.012965  0.390584\n",
              "MPG-H       0.379871 -0.454730  -0.692258  ...  0.937019    0.092447 -0.123900\n",
              "MPG-C       0.339894 -0.557035  -0.747238  ...  1.000000    0.079140 -0.201820\n",
              "Popularity  0.194792  0.092237   0.012965  ...  0.079140    1.000000  0.108194\n",
              "Price       0.577544  0.744946   0.390584  ... -0.201820    0.108194  1.000000\n",
              "\n",
              "[7 rows x 7 columns]"
            ]
          },
          "metadata": {
            "tags": []
          },
          "execution_count": 71
        }
      ]
    },
    {
      "cell_type": "markdown",
      "metadata": {
        "id": "aYotafL3hIsN",
        "colab_type": "text"
      },
      "source": [
        "\n",
        "\n",
        "*   Year has a negative correlation with cylinders and have a reasonably good corelation with price (inflation is one of the factor)\n",
        "*   HP has a reasonably good correlation with Cylinders ( for more power more volume is needed)\n",
        "*Cylinders have slightly same negative corelation with MPG-C,MPG-H(some high cc cars may have less mpg)\n",
        "*Price and Popularity have positive but less correlation( we all think high popularity implies high price , but it is not the case everytime) \n",
        "\n"
      ]
    },
    {
      "cell_type": "markdown",
      "metadata": {
        "id": "tKiZxaMvknDT",
        "colab_type": "text"
      },
      "source": [
        "We can also build heatmap of correlation matrix using seaborn.Now let's make it."
      ]
    },
    {
      "cell_type": "code",
      "metadata": {
        "id": "2KggwsQmk1tc",
        "colab_type": "code",
        "colab": {
          "base_uri": "https://localhost:8080/",
          "height": 504
        },
        "outputId": "4338e462-b301-4d4b-8ddf-f404cba92e75"
      },
      "source": [
        " plt.figure(figsize=(10,8))\n",
        "sns.heatmap(df.corr(),annot=True,cmap=\"Greens\")"
      ],
      "execution_count": 72,
      "outputs": [
        {
          "output_type": "execute_result",
          "data": {
            "text/plain": [
              "<matplotlib.axes._subplots.AxesSubplot at 0x7fcda4c9c2e8>"
            ]
          },
          "metadata": {
            "tags": []
          },
          "execution_count": 72
        },
        {
          "output_type": "display_data",
          "data": {
            "image/png": "[encoded data removed]",
            "text/plain": [
              "<Figure size 720x576 with 2 Axes>"
            ]
          },
          "metadata": {
            "tags": [],
            "needs_background": "light"
          }
        }
      ]
    },
    {
      "cell_type": "markdown",
      "metadata": {
        "id": "BqWn1JcslChv",
        "colab_type": "text"
      },
      "source": [
        "**8. EDA Analysis**"
      ]
    },
    {
      "cell_type": "markdown",
      "metadata": {
        "id": "u1mj07zylbvr",
        "colab_type": "text"
      },
      "source": [
        "Exploratory data analysis is very important and crucial step.In this step we shall summarize the main characteristics of data using visual methods. We shall analyse the data using different plots and note our readings later. "
      ]
    },
    {
      "cell_type": "markdown",
      "metadata": {
        "id": "SLW-VNrFmar2",
        "colab_type": "text"
      },
      "source": [
        "**Histogram**"
      ]
    },
    {
      "cell_type": "code",
      "metadata": {
        "id": "mVEm2EtDmib2",
        "colab_type": "code",
        "colab": {
          "base_uri": "https://localhost:8080/",
          "height": 297
        },
        "outputId": "3e480580-8937-4845-c9c1-532e9ee0603b"
      },
      "source": [
        "df.hist( rwidth=0.9 ,color='skyblue')        # plotting histogram with skyblue colour\n",
        "plt.tight_layout()                           # tight_layout controls the  padding in the layout and makes it clear"
      ],
      "execution_count": 73,
      "outputs": [
        {
          "output_type": "display_data",
          "data": {
            "image/png": "[encoded data removed]",
            "text/plain": [
              "<Figure size 432x288 with 9 Axes>"
            ]
          },
          "metadata": {
            "tags": [],
            "needs_background": "light"
          }
        }
      ]
    },
    {
      "cell_type": "markdown",
      "metadata": {
        "id": "EybzisqXoqyN",
        "colab_type": "text"
      },
      "source": [
        "**Scatter Plot**"
      ]
    },
    {
      "cell_type": "markdown",
      "metadata": {
        "id": "iAiKtGcxozFF",
        "colab_type": "text"
      },
      "source": [
        "scatter plot is to visualize price vs other continuous variables"
      ]
    },
    {
      "cell_type": "markdown",
      "metadata": {
        "id": "7noqQQLppMco",
        "colab_type": "text"
      },
      "source": [
        "Let's plot subplots using different colours for better visualization."
      ]
    },
    {
      "cell_type": "code",
      "metadata": {
        "id": "X0ChbqaApFjo",
        "colab_type": "code",
        "colab": {
          "base_uri": "https://localhost:8080/",
          "height": 216
        },
        "outputId": "4dd7dc1b-06e9-48bb-b79f-8fc6d51d2f0c"
      },
      "source": [
        "plt.subplot(3,3,1)\n",
        "plt.title(\"HP vs Price\")\n",
        "plt.scatter(df[\"HP\"],df[\"Price\"],s=1, c='g')\n",
        "\n",
        "plt.subplot(3,3,2)\n",
        "plt.title(\"MPG-H vs Price\")\n",
        "plt.scatter(df[\"MPG-H\"],df[\"Price\"],s=1,c='b')\n",
        "\n",
        "plt.subplot(3,3,3)\n",
        "plt.title(\"MPG-C vs Price\")\n",
        "plt.scatter(df[\"MPG-C\"],df[\"Price\"],s=1,c='m')\n",
        "\n",
        "plt.subplot(3,3,4)\n",
        "plt.title(\"Popularity vs Price\")\n",
        "plt.scatter(df[\"Popularity\"],df[\"Price\"],s=1,c='m')\n",
        "\n",
        "plt.subplot(3,3,5)\n",
        "plt.title(\"Year vs Price\")\n",
        "plt.scatter(df[\"Year\"],df[\"Price\"],s=1,c='c')\n",
        "\n",
        "plt.tight_layout()\n"
      ],
      "execution_count": 74,
      "outputs": [
        {
          "output_type": "display_data",
          "data": {
            "image/png": "[encoded data removed]",
            "text/plain": [
              "<Figure size 432x288 with 5 Axes>"
            ]
          },
          "metadata": {
            "tags": [],
            "needs_background": "light"
          }
        }
      ]
    },
    {
      "cell_type": "markdown",
      "metadata": {
        "id": "NwTVwvQDpYmu",
        "colab_type": "text"
      },
      "source": [
        "**Bar Graph**"
      ]
    },
    {
      "cell_type": "markdown",
      "metadata": {
        "id": "yaBF1MdKpkfH",
        "colab_type": "text"
      },
      "source": [
        "Bar graph is for visualization of price vs categorical variables"
      ]
    },
    {
      "cell_type": "markdown",
      "metadata": {
        "id": "2g_WP8VnprId",
        "colab_type": "text"
      },
      "source": [
        "Let's plot subplots using different colours for better visualization."
      ]
    },
    {
      "cell_type": "code",
      "metadata": {
        "id": "LX60KlPlpwJI",
        "colab_type": "code",
        "colab": {
          "base_uri": "https://localhost:8080/",
          "height": 297
        },
        "outputId": "3eb2d7db-0c61-479e-e6d0-576b5aea3173"
      },
      "source": [
        "colours=['g','r','m','b']               #list of colours to be used\n",
        "plt.subplot(2,2,1)\n",
        "plt.title(\"Make vs Price\")             # For titling graphs\n",
        "Unique_models= df['Make'].unique()\n",
        "Price_avg = df.groupby('Make').mean()['Price']\n",
        "plt.bar(Unique_models,Price_avg, color=colours )\n",
        "\n",
        "plt.subplot(2,2,2)\n",
        "plt.title(\"Model vs Price\")\n",
        "Unique_models= df['Model'].unique()\n",
        "Price_avg = df.groupby('Model').mean()['Price']\n",
        "plt.bar(Unique_models,Price_avg ,color=colours)\n",
        "\n",
        "plt.subplot(2,2,3)\n",
        "plt.title(\"Transmission vs Price\")\n",
        "Unique_models= df['Transmission'].unique()\n",
        "Price_avg = df.groupby('Transmission').mean()['Price']\n",
        "plt.bar(Unique_models,Price_avg,color=colours )\n",
        "\n",
        "\n",
        "plt.subplot(2,2,4)\n",
        "plt.title(\"Drive Mode vs Price\")\n",
        "Unique_models= df['Drive Mode'].unique()\n",
        "Price_avg = df.groupby('Drive Mode').mean()['Price']\n",
        "plt.bar(Unique_models,Price_avg,color=colours )\n",
        "\n",
        "plt.tight_layout()"
      ],
      "execution_count": 75,
      "outputs": [
        {
          "output_type": "display_data",
          "data": {
            "image/png": "[encoded data removed]",
            "text/plain": [
              "<Figure size 432x288 with 4 Axes>"
            ]
          },
          "metadata": {
            "tags": [],
            "needs_background": "light"
          }
        }
      ]
    },
    {
      "cell_type": "markdown",
      "metadata": {
        "id": "1wjYpbt8qZ1j",
        "colab_type": "text"
      },
      "source": [
        "x-axis variables in each graph are not clearly visible because of more number of variables😃."
      ]
    },
    {
      "cell_type": "markdown",
      "metadata": {
        "id": "ne-flqisqyCQ",
        "colab_type": "text"
      },
      "source": [
        "SUMMARY\n",
        "\n",
        "\n",
        "*   There is a significant change in transmission,drive mode with change in price\n",
        "*   Price varies with make,model.\n",
        "*  Price increases almost lineraly with year.\n",
        "* Price increases almost lineraly with horse power(HP) also. \n",
        "* Relation between MPG(H,C) and Price is not linear. Initially price is constant with increase in MPG and started decreasing later on.\n",
        "* It seems there is no relation between popularity and price.\n",
        "* Most cars in data are from latest year.\n",
        "*Most cars in the data contain 4,6 cylinders.  \n",
        "\n",
        "\n",
        "\n",
        "\n",
        "\n"
      ]
    },
    {
      "cell_type": "markdown",
      "metadata": {
        "id": "mjDn_XGJuNeG",
        "colab_type": "text"
      },
      "source": [
        "**9,10. Building Machine Learning Models**"
      ]
    },
    {
      "cell_type": "markdown",
      "metadata": {
        "id": "cumcJ7DQxXnm",
        "colab_type": "text"
      },
      "source": [
        "Now it's time to build machine learning model and check which model is suits better for our data."
      ]
    },
    {
      "cell_type": "markdown",
      "metadata": {
        "id": "TrDKFZEkxwxR",
        "colab_type": "text"
      },
      "source": [
        "First step in building the model is to split the data into train,test. It is because to train our model with train data and test it using test data.We shall split data into 80 and 20 ratio."
      ]
    },
    {
      "cell_type": "code",
      "metadata": {
        "id": "hChufDSxukUY",
        "colab_type": "code",
        "colab": {}
      },
      "source": [
        "from sklearn.model_selection import train_test_split                   #used to split data\n",
        "from sklearn.metrics import mean_squared_error,mean_absolute_error     #used for calculating errors\n",
        "from sklearn.preprocessing import StandardScaler                       # imports standardScaler for scaling \n",
        "import math                                                            #imports math for calculations\n",
        "                          \n",
        "Y = df['Price'].values\n",
        "X = df[['Year','HP','Cylinders','MPG-H','MPG-C','Popularity']].values\n",
        "sc_X = StandardScaler()\n",
        "sc_Y = StandardScaler()\n",
        "X = sc_X.fit_transform(X)\n",
        "Y = sc_Y.fit_transform(Y.reshape(-1,1))\n",
        "X_train,X_test,Y_train,Y_test= train_test_split(X,Y,test_size=0.2,random_state=1234)         #splits data into 80 and 20 ratio"
      ],
      "execution_count": 76,
      "outputs": []
    },
    {
      "cell_type": "markdown",
      "metadata": {
        "id": "_n4xrlzX6FZi",
        "colab_type": "text"
      },
      "source": [
        "We successfully split the data.Now let's try to build our first model i.e, linear regression model."
      ]
    },
    {
      "cell_type": "markdown",
      "metadata": {
        "id": "ZMe4ww8p65m-",
        "colab_type": "text"
      },
      "source": [
        "\n",
        "\n",
        "*   R2 = R square\n",
        "*   RMSE = Root Mean Square Error\n",
        "* MAE = Mean Absolute Error\n",
        "\n"
      ]
    },
    {
      "cell_type": "markdown",
      "metadata": {
        "id": "CR5o6KnI6d37",
        "colab_type": "text"
      },
      "source": [
        "**Multilinear Regression**"
      ]
    },
    {
      "cell_type": "code",
      "metadata": {
        "id": "mQkJ2UyS6mIV",
        "colab_type": "code",
        "colab": {
          "base_uri": "https://localhost:8080/",
          "height": 84
        },
        "outputId": "36679f76-fbd2-49a7-e756-5be84d5e38b6"
      },
      "source": [
        "#multilinear regression\n",
        "from sklearn.linear_model import LinearRegression            #imports LinearRegresion\n",
        "\n",
        "std_reg = LinearRegression()\n",
        "std_reg.fit(X_train,Y_train)\n",
        "Y_predict = std_reg.predict(X_test)\n",
        "r2_test = std_reg.score(X_test,Y_test)\n",
        "r2_train = std_reg.score(X_train,Y_train)\n",
        "rmse = math.sqrt(mean_squared_error(Y_test,Y_predict))\n",
        "mae   = mean_absolute_error(Y_test, Y_predict )\n",
        "print('r2_test  : '+ str(r2_test)  )\n",
        "print('r2_train : '+str(r2_train) )\n",
        "print('rmse     : ' + str(rmse) )\n",
        "print('mae      : '+ str(mae) )\n"
      ],
      "execution_count": 77,
      "outputs": [
        {
          "output_type": "stream",
          "text": [
            "r2_test  : 0.7014474912337116\n",
            "r2_train : 0.6850114568263814\n",
            "rmse     : 0.5446073994259039\n",
            "mae      : 0.42201573550860627\n"
          ],
          "name": "stdout"
        }
      ]
    },
    {
      "cell_type": "markdown",
      "metadata": {
        "id": "_8DYGJ7CDU4u",
        "colab_type": "text"
      },
      "source": [
        "**Logistic Regression**"
      ]
    },
    {
      "cell_type": "code",
      "metadata": {
        "id": "O3MqtZgQC8xO",
        "colab_type": "code",
        "colab": {
          "base_uri": "https://localhost:8080/",
          "height": 205
        },
        "outputId": "d5bcd7f4-f35c-45fe-a22a-833f5ad521af"
      },
      "source": [
        "#logistic regression\n",
        "from sklearn.linear_model import LogisticRegression                         #imports logistic regression\n",
        "from sklearn import preprocessing                                           #imports preprocessing\n",
        "\n",
        "lab_enc = preprocessing.LabelEncoder()\n",
        "Y_train_encoded = lab_enc.fit_transform(Y_train)\n",
        "Y_test_encoded = lab_enc.fit_transform(Y_test)\n",
        "lr = LogisticRegression()\n",
        "lr.fit(X_train,Y_train_encoded)\n",
        "Y_predict1 = lr.predict(X_test)\n",
        "r2_test1 = lr.score(X_test,Y_test_encoded)\n",
        "r2_train1 = lr.score(X_train,Y_train_encoded)\n",
        "rmse1 = math.sqrt(mean_squared_error(Y_test_encoded,Y_predict1))\n",
        "mae1   = mean_absolute_error(Y_test_encoded, Y_predict1 )"
      ],
      "execution_count": 78,
      "outputs": [
        {
          "output_type": "stream",
          "text": [
            "/usr/local/lib/python3.6/dist-packages/sklearn/preprocessing/_label.py:251: DataConversionWarning: A column-vector y was passed when a 1d array was expected. Please change the shape of y to (n_samples, ), for example using ravel().\n",
            "  y = column_or_1d(y, warn=True)\n",
            "/usr/local/lib/python3.6/dist-packages/sklearn/linear_model/_logistic.py:940: ConvergenceWarning: lbfgs failed to converge (status=1):\n",
            "STOP: TOTAL NO. of ITERATIONS REACHED LIMIT.\n",
            "\n",
            "Increase the number of iterations (max_iter) or scale the data as shown in:\n",
            "    https://scikit-learn.org/stable/modules/preprocessing.html\n",
            "Please also refer to the documentation for alternative solver options:\n",
            "    https://scikit-learn.org/stable/modules/linear_model.html#logistic-regression\n",
            "  extra_warning_msg=_LOGISTIC_SOLVER_CONVERGENCE_MSG)\n"
          ],
          "name": "stderr"
        }
      ]
    },
    {
      "cell_type": "code",
      "metadata": {
        "id": "1bIjfI5dDc5f",
        "colab_type": "code",
        "colab": {
          "base_uri": "https://localhost:8080/",
          "height": 84
        },
        "outputId": "190baddc-9fae-483b-cdb8-963b3dd4b9ef"
      },
      "source": [
        "print('r2_test  : '+ str(r2_test1)  )\n",
        "print('r2_train : '+str(r2_train1) )\n",
        "print('rmse     : ' + str(rmse1) )\n",
        "print('mae      : '+ str(mae1) )"
      ],
      "execution_count": 79,
      "outputs": [
        {
          "output_type": "stream",
          "text": [
            "r2_test  : 0.03376777251184834\n",
            "r2_train : 0.04651851851851852\n",
            "rmse     : 1455.5803674689823\n",
            "mae      : 1223.9277251184835\n"
          ],
          "name": "stdout"
        }
      ]
    },
    {
      "cell_type": "markdown",
      "metadata": {
        "id": "CkKdJxKJDmUa",
        "colab_type": "text"
      },
      "source": [
        "**Support Vector Regression (SVR)**"
      ]
    },
    {
      "cell_type": "code",
      "metadata": {
        "id": "WcsJ2dZwEppF",
        "colab_type": "code",
        "colab": {
          "base_uri": "https://localhost:8080/",
          "height": 138
        },
        "outputId": "82e9da64-ae8f-4697-d045-707fa4d0bb0e"
      },
      "source": [
        "#SVR\n",
        "from sklearn.svm import SVR                                            #imports svr    \n",
        "svr = SVR(kernel='rbf',gamma=1.0)                                      # we can use other kernel also and you may get different result\n",
        "svr.fit(X_train,Y_train)\n",
        "Y_predict2=svr.predict(X_test)\n",
        "r2_test2 = svr.score(X_test,Y_test)\n",
        "r2_train2 = svr.score(X_train,Y_train)\n",
        "rmse2 = math.sqrt(mean_squared_error(Y_test,Y_predict2))\n",
        "mae2 = mean_absolute_error(Y_test, Y_predict2 )\n",
        "print('r2_test  : '+ str(r2_test2)  )\n",
        "print('r2_train : '+str(r2_train2) )\n",
        "print('rmse     : ' + str(rmse2) )\n",
        "print('mae      : '+ str(mae2) )\n"
      ],
      "execution_count": 80,
      "outputs": [
        {
          "output_type": "stream",
          "text": [
            "/usr/local/lib/python3.6/dist-packages/sklearn/utils/validation.py:760: DataConversionWarning: A column-vector y was passed when a 1d array was expected. Please change the shape of y to (n_samples, ), for example using ravel().\n",
            "  y = column_or_1d(y, warn=True)\n"
          ],
          "name": "stderr"
        },
        {
          "output_type": "stream",
          "text": [
            "r2_test  : 0.8849877659074431\n",
            "r2_train : 0.889155015569553\n",
            "rmse     : 0.3380221774348955\n",
            "mae      : 0.23917733601002766\n"
          ],
          "name": "stdout"
        }
      ]
    },
    {
      "cell_type": "markdown",
      "metadata": {
        "id": "X0Zy3ClGFDdZ",
        "colab_type": "text"
      },
      "source": [
        "**Decission Tree**"
      ]
    },
    {
      "cell_type": "code",
      "metadata": {
        "id": "Cgveh-rxFDBl",
        "colab_type": "code",
        "colab": {
          "base_uri": "https://localhost:8080/",
          "height": 84
        },
        "outputId": "491409ee-97bf-4a4f-a805-ee75975eefcd"
      },
      "source": [
        "#Decision tree\n",
        "from sklearn.tree import DecisionTreeRegressor                                #imports decisionTreeRegressor\n",
        "dtc= DecisionTreeRegressor()\n",
        "dtc.fit(X_train,Y_train)\n",
        "Y_predict3 = dtc.predict(X_test)\n",
        "r2_test3 = dtc.score(X_test,Y_test)\n",
        "r2_train3 = dtc.score(X_train,Y_train)\n",
        "rmse3 = math.sqrt(mean_squared_error(Y_test,Y_predict3))\n",
        "mae3  = mean_absolute_error(Y_test, Y_predict3)\n",
        "\n",
        "print('r2_test  : '+ str(r2_test3)  )\n",
        "print('r2_train : '+str(r2_train3) )\n",
        "print('rmse     : ' + str(rmse3) )\n",
        "print('mae      : '+ str(mae3) )\n",
        "\n"
      ],
      "execution_count": 81,
      "outputs": [
        {
          "output_type": "stream",
          "text": [
            "r2_test  : 0.9146656749654666\n",
            "r2_train : 0.9710733344453619\n",
            "rmse     : 0.29116224146170716\n",
            "mae      : 0.20049736794598974\n"
          ],
          "name": "stdout"
        }
      ]
    },
    {
      "cell_type": "markdown",
      "metadata": {
        "id": "lgh0mIugFclt",
        "colab_type": "text"
      },
      "source": [
        "**Random Tree**"
      ]
    },
    {
      "cell_type": "code",
      "metadata": {
        "id": "_7-kr1V3FdFd",
        "colab_type": "code",
        "colab": {
          "base_uri": "https://localhost:8080/",
          "height": 138
        },
        "outputId": "ef4b6b1e-b09a-4cf3-ff35-2eef274c9035"
      },
      "source": [
        "#Random Forest\n",
        "from sklearn.ensemble import RandomForestRegressor                    #imports randomForestRegressor\n",
        "rfc = RandomForestRegressor()\n",
        "rfc.fit(X_train,Y_train)\n",
        "Y_predict4 = rfc.predict(X_test)\n",
        "r2_test4 = rfc.score(X_test,Y_test)\n",
        "r2_train4 = rfc.score(X_train,Y_train)\n",
        "rmse4 = math.sqrt(mean_squared_error(Y_test,Y_predict4))\n",
        "mae4  = mean_absolute_error(Y_test, Y_predict4)\n",
        "\n",
        "print('r2_test  : '+ str(r2_test4)  )\n",
        "print('r2_train : '+str(r2_train4) )\n",
        "print('rmse     : ' + str(rmse4) )\n",
        "print('mae      : '+ str(mae4) )\n",
        "\n"
      ],
      "execution_count": 82,
      "outputs": [
        {
          "output_type": "stream",
          "text": [
            "/usr/local/lib/python3.6/dist-packages/ipykernel_launcher.py:4: DataConversionWarning: A column-vector y was passed when a 1d array was expected. Please change the shape of y to (n_samples,), for example using ravel().\n",
            "  after removing the cwd from sys.path.\n"
          ],
          "name": "stderr"
        },
        {
          "output_type": "stream",
          "text": [
            "r2_test  : 0.9310807571004782\n",
            "r2_train : 0.9685088446240483\n",
            "rmse     : 0.2616636674777433\n",
            "mae      : 0.18697582138424906\n"
          ],
          "name": "stdout"
        }
      ]
    },
    {
      "cell_type": "markdown",
      "metadata": {
        "id": "np8OoGc8F0gC",
        "colab_type": "text"
      },
      "source": [
        "We made 5 machine learning models and calculated their metrics.Now let's make a table for better comparision."
      ]
    },
    {
      "cell_type": "markdown",
      "metadata": {
        "id": "erCmHUhjGRTG",
        "colab_type": "text"
      },
      "source": [
        "**Tabluating all metrics**"
      ]
    },
    {
      "cell_type": "code",
      "metadata": {
        "id": "AYDRUciMGONR",
        "colab_type": "code",
        "colab": {
          "base_uri": "https://localhost:8080/",
          "height": 118
        },
        "outputId": "f6d00ef4-ec1a-46e3-c78c-afb2629f907d"
      },
      "source": [
        "print(\"               \"+\" R2_test     \"+\"  R2_train     \"+\"  RMSE       \"+\"  MAE         \")\n",
        "print(\" Multilinear    \"+ str(round(r2_test,3)) +\"          \"+ str(round(r2_train,3))+\"         \"+ str(round(rmse,3))+\"       \"+ str(round(mae,3)))\n",
        "print(\" Logistic       \"+str(round(r2_test1,3)) +\"          \"+ str(round(r2_train1,3))+\"         \"+ str(round(rmse1,3))+\"     \"+ str(round(mae1,3)))\n",
        "print(\" SVR            \"+str(round(r2_test2,3)) +\"          \"+ str(round(r2_train2,3))+\"         \"+ str(round(rmse2,3))+\"       \"+ str(round(mae2,3)))\n",
        "print(\" DecissionTree  \"+str(round(r2_test3,3)) +\"          \"+ str(round(r2_train3,3))+\"         \"+ str(round(rmse3,3))+\"       \"+ str(round(mae3,3)))\n",
        "print(\" RandomForest   \"+str(round(r2_test4,3)) +\"          \"+ str(round(r2_train4,3))+\"         \"+ str(round(rmse4,3))+\"       \"+ str(round(mae4,3)))"
      ],
      "execution_count": 86,
      "outputs": [
        {
          "output_type": "stream",
          "text": [
            "                R2_test       R2_train       RMSE         MAE         \n",
            " Multilinear    0.701          0.685         0.545       0.422\n",
            " Logistic       0.034          0.047         1455.58     1223.928\n",
            " SVR            0.885          0.889         0.338       0.239\n",
            " DecissionTree  0.915          0.971         0.291       0.2\n",
            " RandomForest   0.931          0.969         0.262       0.187\n"
          ],
          "name": "stdout"
        }
      ]
    },
    {
      "cell_type": "markdown",
      "metadata": {
        "id": "av4r12GwJF5a",
        "colab_type": "text"
      },
      "source": [
        "\n",
        "SUMMARY\n",
        "\n",
        "*   Random forest shows more accuracy.\n",
        "*   Model failed when we used logistic regression.\n",
        "*  All other algorithms are good at accuray other except logistic.\n",
        "* Decission tree and Random forest are almost same at accuray\n",
        "* SVR stands next after random forest and decission tree at accuracy, followed by linear regression.\n"
      ]
    },
    {
      "cell_type": "markdown",
      "metadata": {
        "id": "6xiXN7QrLVtl",
        "colab_type": "text"
      },
      "source": [
        "**THANK YOU😊😊😉**"
      ]
    }
  ]
}